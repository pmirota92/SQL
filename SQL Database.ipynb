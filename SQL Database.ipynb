{
 "cells": [
  {
   "cell_type": "markdown",
   "metadata": {},
   "source": [
    "# Examples of solutions to SQL tasks using Python"
   ]
  },
  {
   "cell_type": "markdown",
   "metadata": {},
   "source": [
    "The Transactions.xlsx file contains the following databases:\n",
    "- transaction lines (Trans_Line)\n",
    "- transaction headers (Trans_Header)\n",
    "- stores (Store)\n",
    "- inventory (Item)\n",
    "\n",
    "The \"Description\" tab contains a description of the tables.\n",
    "\n",
    "You should prepare SQL queries that will answer the following questions:\n",
    "\n",
    "a) What share of transactions by sales channel in stream A are transactions containing at least two products? Only sales lines should be considered, excluding returns.\n",
    "\n",
    "b) Which brand has the highest share of returns in Poland?\n",
    "\n",
    "c) Which product (product number) achieved the highest % margin in the period July 5-15, 2019 in stream C? Only sales lines should be considered, excluding returns.\n",
    "\n",
    "d) What margin would the PL country achieve without the price reduction?\n",
    "\n",
    "e) What is the share of all transactions in July in stream A in individual countries that includes both category B and K inventories (at least 1 sales item each)? Only sales lines should be considered, excluding returns."
   ]
  },
  {
   "cell_type": "code",
   "execution_count": null,
   "metadata": {},
   "outputs": [],
   "source": [
    "import pandas as pd\n",
    "import sqlite3"
   ]
  },
  {
   "cell_type": "code",
   "execution_count": null,
   "metadata": {},
   "outputs": [],
   "source": []
  },
  {
   "cell_type": "code",
   "execution_count": null,
   "metadata": {},
   "outputs": [],
   "source": []
  },
  {
   "cell_type": "code",
   "execution_count": 2,
   "metadata": {},
   "outputs": [],
   "source": [
    "TransLine = pd.read_excel(\n",
    "    'Transactions.xlsx', \n",
    "    sheet_name='Trans_Line',\n",
    "    header=0).dropna()"
   ]
  },
  {
   "cell_type": "code",
   "execution_count": 3,
   "metadata": {},
   "outputs": [],
   "source": [
    "TransHeader= pd.read_excel(\n",
    "    'Transactions.xlsx', \n",
    "    sheet_name='Trans_Header',\n",
    "    header=0).dropna()"
   ]
  },
  {
   "cell_type": "code",
   "execution_count": 4,
   "metadata": {},
   "outputs": [],
   "source": [
    "Store = pd.read_excel(\n",
    "    'Transactions.xlsx', \n",
    "    sheet_name='Store',\n",
    "    header=0).dropna()"
   ]
  },
  {
   "cell_type": "code",
   "execution_count": 5,
   "metadata": {},
   "outputs": [],
   "source": [
    "Item = pd.read_excel(\n",
    "    'Transactions.xlsx', \n",
    "    sheet_name='Item',\n",
    "    header=0).dropna()"
   ]
  },
  {
   "cell_type": "code",
   "execution_count": 6,
   "metadata": {},
   "outputs": [],
   "source": [
    "db_conn = sqlite3.connect(\"TransNew1.db\")"
   ]
  },
  {
   "cell_type": "code",
   "execution_count": 7,
   "metadata": {},
   "outputs": [],
   "source": [
    "c = db_conn.cursor()"
   ]
  },
  {
   "cell_type": "code",
   "execution_count": 8,
   "metadata": {},
   "outputs": [
    {
     "data": {
      "text/plain": [
       "<sqlite3.Cursor at 0x25915362f10>"
      ]
     },
     "execution_count": 8,
     "metadata": {},
     "output_type": "execute_result"
    }
   ],
   "source": [
    "c.execute(\n",
    "    \"\"\"\n",
    "    CREATE TABLE Store (\n",
    "        store_no TEXT NOT NULL,\n",
    "        Stream TEXT,\n",
    "        Region INTEGER,\n",
    "        Channel TEXT,\n",
    "        Country TEXT,\n",
    "        PRIMARY KEY(store_no)\n",
    "        );\n",
    "     \"\"\"\n",
    ")"
   ]
  },
  {
   "cell_type": "code",
   "execution_count": 9,
   "metadata": {},
   "outputs": [
    {
     "data": {
      "text/plain": [
       "<sqlite3.Cursor at 0x25915362f10>"
      ]
     },
     "execution_count": 9,
     "metadata": {},
     "output_type": "execute_result"
    }
   ],
   "source": [
    "c.execute(\n",
    "    \"\"\"\n",
    "    CREATE TABLE Item (\n",
    "        item_no TEXT,\n",
    "        Category_Code TEXT,\n",
    "        Brand_Code TEXT,\n",
    "        PRIMARY KEY(item_no)\n",
    "        );\n",
    "     \"\"\"\n",
    ")"
   ]
  },
  {
   "cell_type": "code",
   "execution_count": 10,
   "metadata": {},
   "outputs": [
    {
     "data": {
      "text/plain": [
       "<sqlite3.Cursor at 0x25915362f10>"
      ]
     },
     "execution_count": 10,
     "metadata": {},
     "output_type": "execute_result"
    }
   ],
   "source": [
    "c.execute(\n",
    "    \"\"\"\n",
    "    CREATE TABLE TransHeader (\n",
    "        store_no TEXT NOT NULL,\n",
    "        transaction_no TEXT NOT NULL,\n",
    "        status TEXT NOT NULL,\n",
    "        date TEXT NOT NULL\n",
    "        );\n",
    "     \"\"\"\n",
    ")"
   ]
  },
  {
   "cell_type": "code",
   "execution_count": 11,
   "metadata": {},
   "outputs": [
    {
     "data": {
      "text/plain": [
       "<sqlite3.Cursor at 0x25915362f10>"
      ]
     },
     "execution_count": 11,
     "metadata": {},
     "output_type": "execute_result"
    }
   ],
   "source": [
    "c.execute(\n",
    "    \"\"\"\n",
    "    CREATE TABLE TransLine (\n",
    "        store_no TEXT NOT NULL,\n",
    "        transaction_no TEXT NOT NULL,\n",
    "        item_no TEXT NOT NULL,\n",
    "        quantity INTEGER NOT NULL,\n",
    "        net_amount REAL NOT NULL,\n",
    "        cost_amount REAL NOT NULL,\n",
    "        discount_amount REAL NOT NULL\n",
    "        );\n",
    "     \"\"\"\n",
    ")"
   ]
  },
  {
   "cell_type": "code",
   "execution_count": 12,
   "metadata": {
    "scrolled": true
   },
   "outputs": [
    {
     "data": {
      "text/plain": [
       "158065"
      ]
     },
     "execution_count": 12,
     "metadata": {},
     "output_type": "execute_result"
    }
   ],
   "source": [
    "Store.to_sql('Store', db_conn, if_exists='append', index=False)\n",
    "Item.to_sql('Item', db_conn, if_exists='append', index=False)\n",
    "TransHeader.to_sql('TransHeader', db_conn, if_exists='append', index=False)\n",
    "TransLine.to_sql('TransLine', db_conn, if_exists='append', index=False)"
   ]
  },
  {
   "cell_type": "markdown",
   "metadata": {},
   "source": [
    "# Exercises"
   ]
  },
  {
   "cell_type": "markdown",
   "metadata": {},
   "source": [
    "a) What share of transactions by sales channel in stream A are transactions containing at least two products? Only sales lines should be considered, excluding returns."
   ]
  },
  {
   "cell_type": "code",
   "execution_count": 82,
   "metadata": {},
   "outputs": [],
   "source": [
    "zad_a=(\"\"\"SELECT Store.Channel,\n",
    "(SELECT Count(TransLine.transaction_no) as tc \n",
    "      FROM TransLine \n",
    "      JOIN Store\n",
    "       ON TransLine.store_no=Store.store_no\n",
    "       WHERE Store.Stream = 'A'\n",
    "       AND TransLine.quantity>=2\n",
    "       GROUP BY Store.Channel) as Over2, \n",
    "       Count(TransLine.transaction_no) as TransCountTotal\n",
    "       FROM TransLine\n",
    "       JOIN Store\n",
    "       ON TransLine.store_no=Store.store_no\n",
    "       WHERE Store.Stream = 'A'\n",
    "       GROUP BY Store.Channel\n",
    "\"\"\")"
   ]
  },
  {
   "cell_type": "code",
   "execution_count": 83,
   "metadata": {},
   "outputs": [
    {
     "data": {
      "text/html": [
       "<div>\n",
       "<style scoped>\n",
       "    .dataframe tbody tr th:only-of-type {\n",
       "        vertical-align: middle;\n",
       "    }\n",
       "\n",
       "    .dataframe tbody tr th {\n",
       "        vertical-align: top;\n",
       "    }\n",
       "\n",
       "    .dataframe thead th {\n",
       "        text-align: right;\n",
       "    }\n",
       "</style>\n",
       "<table border=\"1\" class=\"dataframe\">\n",
       "  <thead>\n",
       "    <tr style=\"text-align: right;\">\n",
       "      <th></th>\n",
       "      <th>Channel</th>\n",
       "      <th>Over2</th>\n",
       "      <th>TransCountTotal</th>\n",
       "    </tr>\n",
       "  </thead>\n",
       "  <tbody>\n",
       "    <tr>\n",
       "      <th>0</th>\n",
       "      <td>EC</td>\n",
       "      <td>923</td>\n",
       "      <td>63054</td>\n",
       "    </tr>\n",
       "  </tbody>\n",
       "</table>\n",
       "</div>"
      ],
      "text/plain": [
       "  Channel  Over2  TransCountTotal\n",
       "0      EC    923            63054"
      ]
     },
     "execution_count": 83,
     "metadata": {},
     "output_type": "execute_result"
    }
   ],
   "source": [
    "pd.read_sql(zad_a,db_conn)"
   ]
  },
  {
   "cell_type": "markdown",
   "metadata": {},
   "source": [
    "b) Which brand has the highest share of returns in Poland?"
   ]
  },
  {
   "cell_type": "code",
   "execution_count": 204,
   "metadata": {},
   "outputs": [],
   "source": [
    "zad_b=(\"\"\"SELECT Item.Brand_Code, sum(TransLine.quantity) as Brand_Returns\n",
    "       FROM TransLine\n",
    "       JOIN Store ON TransLine.store_no=Store.store_no\n",
    "       JOIN Item ON TransLine.item_no=Item.item_no       \n",
    "       WHERE Store.Country = 'PL'\n",
    "       AND TransLine.quantity<0\n",
    "       GROUP BY Item.Brand_Code\n",
    "       ORDER BY Brand_Returns\n",
    "\"\"\")"
   ]
  },
  {
   "cell_type": "code",
   "execution_count": 205,
   "metadata": {},
   "outputs": [
    {
     "data": {
      "text/html": [
       "<div>\n",
       "<style scoped>\n",
       "    .dataframe tbody tr th:only-of-type {\n",
       "        vertical-align: middle;\n",
       "    }\n",
       "\n",
       "    .dataframe tbody tr th {\n",
       "        vertical-align: top;\n",
       "    }\n",
       "\n",
       "    .dataframe thead th {\n",
       "        text-align: right;\n",
       "    }\n",
       "</style>\n",
       "<table border=\"1\" class=\"dataframe\">\n",
       "  <thead>\n",
       "    <tr style=\"text-align: right;\">\n",
       "      <th></th>\n",
       "      <th>Brand_Code</th>\n",
       "      <th>Brand_Returns</th>\n",
       "    </tr>\n",
       "  </thead>\n",
       "  <tbody>\n",
       "    <tr>\n",
       "      <th>0</th>\n",
       "      <td>B4</td>\n",
       "      <td>-1924</td>\n",
       "    </tr>\n",
       "    <tr>\n",
       "      <th>1</th>\n",
       "      <td>B2</td>\n",
       "      <td>-718</td>\n",
       "    </tr>\n",
       "    <tr>\n",
       "      <th>2</th>\n",
       "      <td>B7</td>\n",
       "      <td>-225</td>\n",
       "    </tr>\n",
       "    <tr>\n",
       "      <th>3</th>\n",
       "      <td>B1</td>\n",
       "      <td>-111</td>\n",
       "    </tr>\n",
       "    <tr>\n",
       "      <th>4</th>\n",
       "      <td>B3</td>\n",
       "      <td>-65</td>\n",
       "    </tr>\n",
       "    <tr>\n",
       "      <th>5</th>\n",
       "      <td>B5</td>\n",
       "      <td>-51</td>\n",
       "    </tr>\n",
       "    <tr>\n",
       "      <th>6</th>\n",
       "      <td>B6</td>\n",
       "      <td>-50</td>\n",
       "    </tr>\n",
       "  </tbody>\n",
       "</table>\n",
       "</div>"
      ],
      "text/plain": [
       "  Brand_Code  Brand_Returns\n",
       "0         B4          -1924\n",
       "1         B2           -718\n",
       "2         B7           -225\n",
       "3         B1           -111\n",
       "4         B3            -65\n",
       "5         B5            -51\n",
       "6         B6            -50"
      ]
     },
     "execution_count": 205,
     "metadata": {},
     "output_type": "execute_result"
    }
   ],
   "source": [
    "pd.read_sql(zad_b,db_conn)"
   ]
  },
  {
   "cell_type": "code",
   "execution_count": 236,
   "metadata": {},
   "outputs": [],
   "source": [
    "zad_b=(\"\"\"SELECT Item.Brand_Code, sum(TransLine.quantity) as Brand_Returns,\n",
    "        CAST((sum(TransLine.quantity)*100/(SELECT  sum(TransLine.quantity) as Brand_Returns\n",
    "       FROM TransLine\n",
    "       JOIN Store ON TransLine.store_no=Store.store_no      \n",
    "       WHERE Store.Country = 'PL'\n",
    "       AND TransLine.quantity<0)) as float) as Total_Returns_PL\n",
    "       FROM TransLine\n",
    "       JOIN Store ON TransLine.store_no=Store.store_no\n",
    "       JOIN Item ON TransLine.item_no=Item.item_no       \n",
    "       WHERE Store.Country = 'PL'\n",
    "       AND TransLine.quantity<0\n",
    "       GROUP BY Item.Brand_Code\n",
    "       ORDER BY Brand_Returns\n",
    "\"\"\")"
   ]
  },
  {
   "cell_type": "code",
   "execution_count": 237,
   "metadata": {},
   "outputs": [
    {
     "data": {
      "text/html": [
       "<div>\n",
       "<style scoped>\n",
       "    .dataframe tbody tr th:only-of-type {\n",
       "        vertical-align: middle;\n",
       "    }\n",
       "\n",
       "    .dataframe tbody tr th {\n",
       "        vertical-align: top;\n",
       "    }\n",
       "\n",
       "    .dataframe thead th {\n",
       "        text-align: right;\n",
       "    }\n",
       "</style>\n",
       "<table border=\"1\" class=\"dataframe\">\n",
       "  <thead>\n",
       "    <tr style=\"text-align: right;\">\n",
       "      <th></th>\n",
       "      <th>Brand_Code</th>\n",
       "      <th>Brand_Returns</th>\n",
       "      <th>Total_Returns_PL</th>\n",
       "    </tr>\n",
       "  </thead>\n",
       "  <tbody>\n",
       "    <tr>\n",
       "      <th>0</th>\n",
       "      <td>B4</td>\n",
       "      <td>-1924</td>\n",
       "      <td>61.0</td>\n",
       "    </tr>\n",
       "    <tr>\n",
       "      <th>1</th>\n",
       "      <td>B2</td>\n",
       "      <td>-718</td>\n",
       "      <td>22.0</td>\n",
       "    </tr>\n",
       "    <tr>\n",
       "      <th>2</th>\n",
       "      <td>B7</td>\n",
       "      <td>-225</td>\n",
       "      <td>7.0</td>\n",
       "    </tr>\n",
       "    <tr>\n",
       "      <th>3</th>\n",
       "      <td>B1</td>\n",
       "      <td>-111</td>\n",
       "      <td>3.0</td>\n",
       "    </tr>\n",
       "    <tr>\n",
       "      <th>4</th>\n",
       "      <td>B3</td>\n",
       "      <td>-65</td>\n",
       "      <td>2.0</td>\n",
       "    </tr>\n",
       "    <tr>\n",
       "      <th>5</th>\n",
       "      <td>B5</td>\n",
       "      <td>-51</td>\n",
       "      <td>1.0</td>\n",
       "    </tr>\n",
       "    <tr>\n",
       "      <th>6</th>\n",
       "      <td>B6</td>\n",
       "      <td>-50</td>\n",
       "      <td>1.0</td>\n",
       "    </tr>\n",
       "  </tbody>\n",
       "</table>\n",
       "</div>"
      ],
      "text/plain": [
       "  Brand_Code  Brand_Returns  Total_Returns_PL\n",
       "0         B4          -1924              61.0\n",
       "1         B2           -718              22.0\n",
       "2         B7           -225               7.0\n",
       "3         B1           -111               3.0\n",
       "4         B3            -65               2.0\n",
       "5         B5            -51               1.0\n",
       "6         B6            -50               1.0"
      ]
     },
     "execution_count": 237,
     "metadata": {},
     "output_type": "execute_result"
    }
   ],
   "source": [
    "pd.read_sql(zad_b,db_conn)"
   ]
  },
  {
   "cell_type": "markdown",
   "metadata": {},
   "source": [
    "c) Which product (product number) achieved the highest % margin in the period July 5-15, 2019 in stream C? Only sales lines should be considered, excluding returns."
   ]
  },
  {
   "cell_type": "code",
   "execution_count": 288,
   "metadata": {},
   "outputs": [],
   "source": [
    "zad_c=(\"\"\"SELECT TransLine.item_no, sum(TransLine.net_amount- TransLine.cost_amount + TransLine.discount_amount) as Margin\n",
    "       FROM TransLine\n",
    "       LEFT JOIN Store ON TransLine.store_no=Store.store_no\n",
    "       LEFT JOIN TransHeader ON TransLine.store_no=TransHeader.store_no  AND TransLine.transaction_no= TransHeader.transaction_no\n",
    "       WHERE Store.Stream = 'C'\n",
    "       AND TransHeader.date BETWEEN '2019-07-05' AND '2019-07-16' and TransLine.quantity <>-1\n",
    "       GROUP BY TransLine.item_no\n",
    "       ORDER BY Margin DESC LIMIT 1\n",
    "\"\"\")"
   ]
  },
  {
   "cell_type": "code",
   "execution_count": 289,
   "metadata": {},
   "outputs": [
    {
     "data": {
      "text/html": [
       "<div>\n",
       "<style scoped>\n",
       "    .dataframe tbody tr th:only-of-type {\n",
       "        vertical-align: middle;\n",
       "    }\n",
       "\n",
       "    .dataframe tbody tr th {\n",
       "        vertical-align: top;\n",
       "    }\n",
       "\n",
       "    .dataframe thead th {\n",
       "        text-align: right;\n",
       "    }\n",
       "</style>\n",
       "<table border=\"1\" class=\"dataframe\">\n",
       "  <thead>\n",
       "    <tr style=\"text-align: right;\">\n",
       "      <th></th>\n",
       "      <th>item_no</th>\n",
       "      <th>Margin</th>\n",
       "    </tr>\n",
       "  </thead>\n",
       "  <tbody>\n",
       "    <tr>\n",
       "      <th>0</th>\n",
       "      <td>385181</td>\n",
       "      <td>920.51</td>\n",
       "    </tr>\n",
       "  </tbody>\n",
       "</table>\n",
       "</div>"
      ],
      "text/plain": [
       "  item_no  Margin\n",
       "0  385181  920.51"
      ]
     },
     "execution_count": 289,
     "metadata": {},
     "output_type": "execute_result"
    }
   ],
   "source": [
    "pd.read_sql(zad_c,db_conn)"
   ]
  },
  {
   "cell_type": "markdown",
   "metadata": {},
   "source": [
    "d) What margin would the PL country achieve without the price reduction?"
   ]
  },
  {
   "cell_type": "code",
   "execution_count": 151,
   "metadata": {},
   "outputs": [],
   "source": [
    "zad_d=(\"\"\"SELECT ROUND(SUM(TransLine.net_amount- TransLine.cost_amount)/SUM(TransLine.net_amount)*100, 2) + ' %' as PL_Margin\n",
    "       FROM TransLine\n",
    "       JOIN Store\n",
    "       ON TransLine.store_no=Store.store_no\n",
    "       WHERE Store.Country = 'PL' and TransLine.quantity>0\"\"\"\n",
    "   )"
   ]
  },
  {
   "cell_type": "code",
   "execution_count": 152,
   "metadata": {},
   "outputs": [
    {
     "data": {
      "text/html": [
       "<div>\n",
       "<style scoped>\n",
       "    .dataframe tbody tr th:only-of-type {\n",
       "        vertical-align: middle;\n",
       "    }\n",
       "\n",
       "    .dataframe tbody tr th {\n",
       "        vertical-align: top;\n",
       "    }\n",
       "\n",
       "    .dataframe thead th {\n",
       "        text-align: right;\n",
       "    }\n",
       "</style>\n",
       "<table border=\"1\" class=\"dataframe\">\n",
       "  <thead>\n",
       "    <tr style=\"text-align: right;\">\n",
       "      <th></th>\n",
       "      <th>PL_Margin</th>\n",
       "    </tr>\n",
       "  </thead>\n",
       "  <tbody>\n",
       "    <tr>\n",
       "      <th>0</th>\n",
       "      <td>41.63</td>\n",
       "    </tr>\n",
       "  </tbody>\n",
       "</table>\n",
       "</div>"
      ],
      "text/plain": [
       "   PL_Margin\n",
       "0      41.63"
      ]
     },
     "execution_count": 152,
     "metadata": {},
     "output_type": "execute_result"
    }
   ],
   "source": [
    "pd.read_sql(zad_d,db_conn)"
   ]
  },
  {
   "cell_type": "markdown",
   "metadata": {},
   "source": [
    "e) What is the share of all transactions in July in stream A in individual countries that includes both category B and K inventories (at least 1 sales item each)? Only sales lines should be considered, excluding returns."
   ]
  },
  {
   "cell_type": "code",
   "execution_count": null,
   "metadata": {},
   "outputs": [],
   "source": []
  },
  {
   "cell_type": "code",
   "execution_count": null,
   "metadata": {},
   "outputs": [],
   "source": []
  },
  {
   "cell_type": "markdown",
   "metadata": {},
   "source": [
    "# ----------------------draft"
   ]
  },
  {
   "cell_type": "code",
   "execution_count": 13,
   "metadata": {},
   "outputs": [
    {
     "data": {
      "text/html": [
       "<div>\n",
       "<style scoped>\n",
       "    .dataframe tbody tr th:only-of-type {\n",
       "        vertical-align: middle;\n",
       "    }\n",
       "\n",
       "    .dataframe tbody tr th {\n",
       "        vertical-align: top;\n",
       "    }\n",
       "\n",
       "    .dataframe thead th {\n",
       "        text-align: right;\n",
       "    }\n",
       "</style>\n",
       "<table border=\"1\" class=\"dataframe\">\n",
       "  <thead>\n",
       "    <tr style=\"text-align: right;\">\n",
       "      <th></th>\n",
       "      <th>store_no</th>\n",
       "      <th>net_amount</th>\n",
       "      <th>cost_amount</th>\n",
       "      <th>Total</th>\n",
       "    </tr>\n",
       "  </thead>\n",
       "  <tbody>\n",
       "    <tr>\n",
       "      <th>0</th>\n",
       "      <td>D001</td>\n",
       "      <td>49.62</td>\n",
       "      <td>23.29</td>\n",
       "      <td>26.33</td>\n",
       "    </tr>\n",
       "    <tr>\n",
       "      <th>1</th>\n",
       "      <td>D001</td>\n",
       "      <td>28.48</td>\n",
       "      <td>7.67</td>\n",
       "      <td>20.81</td>\n",
       "    </tr>\n",
       "    <tr>\n",
       "      <th>2</th>\n",
       "      <td>D001</td>\n",
       "      <td>22.17</td>\n",
       "      <td>8.22</td>\n",
       "      <td>13.95</td>\n",
       "    </tr>\n",
       "    <tr>\n",
       "      <th>3</th>\n",
       "      <td>D001</td>\n",
       "      <td>18.12</td>\n",
       "      <td>3.40</td>\n",
       "      <td>14.72</td>\n",
       "    </tr>\n",
       "    <tr>\n",
       "      <th>4</th>\n",
       "      <td>D001</td>\n",
       "      <td>70.05</td>\n",
       "      <td>34.56</td>\n",
       "      <td>35.49</td>\n",
       "    </tr>\n",
       "    <tr>\n",
       "      <th>...</th>\n",
       "      <td>...</td>\n",
       "      <td>...</td>\n",
       "      <td>...</td>\n",
       "      <td>...</td>\n",
       "    </tr>\n",
       "    <tr>\n",
       "      <th>158060</th>\n",
       "      <td>D030</td>\n",
       "      <td>91.08</td>\n",
       "      <td>57.74</td>\n",
       "      <td>33.34</td>\n",
       "    </tr>\n",
       "    <tr>\n",
       "      <th>158061</th>\n",
       "      <td>D030</td>\n",
       "      <td>59.32</td>\n",
       "      <td>25.80</td>\n",
       "      <td>33.52</td>\n",
       "    </tr>\n",
       "    <tr>\n",
       "      <th>158062</th>\n",
       "      <td>D030</td>\n",
       "      <td>11.89</td>\n",
       "      <td>7.80</td>\n",
       "      <td>4.09</td>\n",
       "    </tr>\n",
       "    <tr>\n",
       "      <th>158063</th>\n",
       "      <td>D030</td>\n",
       "      <td>33.15</td>\n",
       "      <td>16.91</td>\n",
       "      <td>16.24</td>\n",
       "    </tr>\n",
       "    <tr>\n",
       "      <th>158064</th>\n",
       "      <td>D030</td>\n",
       "      <td>27.75</td>\n",
       "      <td>12.27</td>\n",
       "      <td>15.48</td>\n",
       "    </tr>\n",
       "  </tbody>\n",
       "</table>\n",
       "<p>158065 rows × 4 columns</p>\n",
       "</div>"
      ],
      "text/plain": [
       "       store_no  net_amount  cost_amount  Total\n",
       "0          D001       49.62        23.29  26.33\n",
       "1          D001       28.48         7.67  20.81\n",
       "2          D001       22.17         8.22  13.95\n",
       "3          D001       18.12         3.40  14.72\n",
       "4          D001       70.05        34.56  35.49\n",
       "...         ...         ...          ...    ...\n",
       "158060     D030       91.08        57.74  33.34\n",
       "158061     D030       59.32        25.80  33.52\n",
       "158062     D030       11.89         7.80   4.09\n",
       "158063     D030       33.15        16.91  16.24\n",
       "158064     D030       27.75        12.27  15.48\n",
       "\n",
       "[158065 rows x 4 columns]"
      ]
     },
     "execution_count": 13,
     "metadata": {},
     "output_type": "execute_result"
    }
   ],
   "source": [
    "pd.read_sql(\"\"\"SELECT TransLine.store_no, net_amount, cost_amount, (net_amount- cost_amount) as Total \n",
    "               FROM TransLine \n",
    "               JOIN Store ON TransLine.store_no=Store.store_no\"\"\", db_conn)"
   ]
  },
  {
   "cell_type": "code",
   "execution_count": null,
   "metadata": {},
   "outputs": [],
   "source": []
  },
  {
   "cell_type": "code",
   "execution_count": null,
   "metadata": {},
   "outputs": [],
   "source": []
  },
  {
   "cell_type": "code",
   "execution_count": null,
   "metadata": {},
   "outputs": [],
   "source": []
  },
  {
   "cell_type": "code",
   "execution_count": 26,
   "metadata": {},
   "outputs": [],
   "source": [
    "dd=(\"\"\"SELECT Store.Country, TransLine.store_no, TransLine.net_amount, TransLine.cost_amount, (TransLine.net_amount- TransLine.cost_amount)as Total, (TransLine.net_amount- TransLine.cost_amount)/TransLine.net_amount as Marza\n",
    "       FROM TransLine\n",
    "       JOIN Store\n",
    "       ON TransLine.store_no=Store.store_no\n",
    "       WHERE Store.Country = 'PL'\n",
    "       Order by TransLine.net_amount DESC\"\"\"\n",
    "   )"
   ]
  },
  {
   "cell_type": "code",
   "execution_count": 27,
   "metadata": {},
   "outputs": [
    {
     "data": {
      "text/html": [
       "<div>\n",
       "<style scoped>\n",
       "    .dataframe tbody tr th:only-of-type {\n",
       "        vertical-align: middle;\n",
       "    }\n",
       "\n",
       "    .dataframe tbody tr th {\n",
       "        vertical-align: top;\n",
       "    }\n",
       "\n",
       "    .dataframe thead th {\n",
       "        text-align: right;\n",
       "    }\n",
       "</style>\n",
       "<table border=\"1\" class=\"dataframe\">\n",
       "  <thead>\n",
       "    <tr style=\"text-align: right;\">\n",
       "      <th></th>\n",
       "      <th>Country</th>\n",
       "      <th>store_no</th>\n",
       "      <th>net_amount</th>\n",
       "      <th>cost_amount</th>\n",
       "      <th>Total</th>\n",
       "      <th>Marza</th>\n",
       "    </tr>\n",
       "  </thead>\n",
       "  <tbody>\n",
       "    <tr>\n",
       "      <th>0</th>\n",
       "      <td>PL</td>\n",
       "      <td>D016</td>\n",
       "      <td>400.89</td>\n",
       "      <td>232.54</td>\n",
       "      <td>168.35</td>\n",
       "      <td>0.419941</td>\n",
       "    </tr>\n",
       "    <tr>\n",
       "      <th>1</th>\n",
       "      <td>PL</td>\n",
       "      <td>D016</td>\n",
       "      <td>375.30</td>\n",
       "      <td>176.27</td>\n",
       "      <td>199.03</td>\n",
       "      <td>0.530322</td>\n",
       "    </tr>\n",
       "    <tr>\n",
       "      <th>2</th>\n",
       "      <td>PL</td>\n",
       "      <td>D016</td>\n",
       "      <td>369.71</td>\n",
       "      <td>240.15</td>\n",
       "      <td>129.56</td>\n",
       "      <td>0.350437</td>\n",
       "    </tr>\n",
       "    <tr>\n",
       "      <th>3</th>\n",
       "      <td>PL</td>\n",
       "      <td>D016</td>\n",
       "      <td>339.64</td>\n",
       "      <td>136.26</td>\n",
       "      <td>203.38</td>\n",
       "      <td>0.598811</td>\n",
       "    </tr>\n",
       "    <tr>\n",
       "      <th>4</th>\n",
       "      <td>PL</td>\n",
       "      <td>D016</td>\n",
       "      <td>338.66</td>\n",
       "      <td>296.62</td>\n",
       "      <td>42.04</td>\n",
       "      <td>0.124136</td>\n",
       "    </tr>\n",
       "    <tr>\n",
       "      <th>...</th>\n",
       "      <td>...</td>\n",
       "      <td>...</td>\n",
       "      <td>...</td>\n",
       "      <td>...</td>\n",
       "      <td>...</td>\n",
       "      <td>...</td>\n",
       "    </tr>\n",
       "    <tr>\n",
       "      <th>70226</th>\n",
       "      <td>PL</td>\n",
       "      <td>D016</td>\n",
       "      <td>-305.72</td>\n",
       "      <td>-147.88</td>\n",
       "      <td>-157.84</td>\n",
       "      <td>0.516289</td>\n",
       "    </tr>\n",
       "    <tr>\n",
       "      <th>70227</th>\n",
       "      <td>PL</td>\n",
       "      <td>D013</td>\n",
       "      <td>-308.15</td>\n",
       "      <td>-142.91</td>\n",
       "      <td>-165.24</td>\n",
       "      <td>0.536232</td>\n",
       "    </tr>\n",
       "    <tr>\n",
       "      <th>70228</th>\n",
       "      <td>PL</td>\n",
       "      <td>D016</td>\n",
       "      <td>-360.49</td>\n",
       "      <td>-169.32</td>\n",
       "      <td>-191.17</td>\n",
       "      <td>0.530306</td>\n",
       "    </tr>\n",
       "    <tr>\n",
       "      <th>70229</th>\n",
       "      <td>PL</td>\n",
       "      <td>D016</td>\n",
       "      <td>-372.72</td>\n",
       "      <td>-299.37</td>\n",
       "      <td>-73.35</td>\n",
       "      <td>0.196797</td>\n",
       "    </tr>\n",
       "    <tr>\n",
       "      <th>70230</th>\n",
       "      <td>PL</td>\n",
       "      <td>D017</td>\n",
       "      <td>-489.13</td>\n",
       "      <td>-282.86</td>\n",
       "      <td>-206.27</td>\n",
       "      <td>0.421708</td>\n",
       "    </tr>\n",
       "  </tbody>\n",
       "</table>\n",
       "<p>70231 rows × 6 columns</p>\n",
       "</div>"
      ],
      "text/plain": [
       "      Country store_no  net_amount  cost_amount   Total     Marza\n",
       "0          PL     D016      400.89       232.54  168.35  0.419941\n",
       "1          PL     D016      375.30       176.27  199.03  0.530322\n",
       "2          PL     D016      369.71       240.15  129.56  0.350437\n",
       "3          PL     D016      339.64       136.26  203.38  0.598811\n",
       "4          PL     D016      338.66       296.62   42.04  0.124136\n",
       "...       ...      ...         ...          ...     ...       ...\n",
       "70226      PL     D016     -305.72      -147.88 -157.84  0.516289\n",
       "70227      PL     D013     -308.15      -142.91 -165.24  0.536232\n",
       "70228      PL     D016     -360.49      -169.32 -191.17  0.530306\n",
       "70229      PL     D016     -372.72      -299.37  -73.35  0.196797\n",
       "70230      PL     D017     -489.13      -282.86 -206.27  0.421708\n",
       "\n",
       "[70231 rows x 6 columns]"
      ]
     },
     "execution_count": 27,
     "metadata": {},
     "output_type": "execute_result"
    }
   ],
   "source": [
    "pd.read_sql(dd,db_conn)"
   ]
  },
  {
   "cell_type": "code",
   "execution_count": 149,
   "metadata": {},
   "outputs": [],
   "source": []
  },
  {
   "cell_type": "code",
   "execution_count": null,
   "metadata": {},
   "outputs": [],
   "source": []
  },
  {
   "cell_type": "code",
   "execution_count": 48,
   "metadata": {},
   "outputs": [],
   "source": [
    "zad_a=(\"\"\"SELECT Count(TransLine.transaction_no) as tc \n",
    "      FROM TransLine \n",
    "      JOIN Store\n",
    "       ON TransLine.store_no=Store.store_no\n",
    "       WHERE Store.Stream = 'A'\n",
    "       AND TransLine.quantity>=2\n",
    "       GROUP BY Store.Channel \n",
    "\n",
    "\"\"\")"
   ]
  },
  {
   "cell_type": "code",
   "execution_count": 49,
   "metadata": {},
   "outputs": [
    {
     "data": {
      "text/html": [
       "<div>\n",
       "<style scoped>\n",
       "    .dataframe tbody tr th:only-of-type {\n",
       "        vertical-align: middle;\n",
       "    }\n",
       "\n",
       "    .dataframe tbody tr th {\n",
       "        vertical-align: top;\n",
       "    }\n",
       "\n",
       "    .dataframe thead th {\n",
       "        text-align: right;\n",
       "    }\n",
       "</style>\n",
       "<table border=\"1\" class=\"dataframe\">\n",
       "  <thead>\n",
       "    <tr style=\"text-align: right;\">\n",
       "      <th></th>\n",
       "      <th>tc</th>\n",
       "    </tr>\n",
       "  </thead>\n",
       "  <tbody>\n",
       "    <tr>\n",
       "      <th>0</th>\n",
       "      <td>923</td>\n",
       "    </tr>\n",
       "  </tbody>\n",
       "</table>\n",
       "</div>"
      ],
      "text/plain": [
       "    tc\n",
       "0  923"
      ]
     },
     "execution_count": 49,
     "metadata": {},
     "output_type": "execute_result"
    }
   ],
   "source": [
    "pd.read_sql(zad_a,db_conn)"
   ]
  },
  {
   "cell_type": "code",
   "execution_count": 80,
   "metadata": {},
   "outputs": [],
   "source": []
  }
 ],
 "metadata": {
  "kernelspec": {
   "display_name": "Python 3 (ipykernel)",
   "language": "python",
   "name": "python3"
  },
  "language_info": {
   "codemirror_mode": {
    "name": "ipython",
    "version": 3
   },
   "file_extension": ".py",
   "mimetype": "text/x-python",
   "name": "python",
   "nbconvert_exporter": "python",
   "pygments_lexer": "ipython3",
   "version": "3.9.12"
  }
 },
 "nbformat": 4,
 "nbformat_minor": 4
}
